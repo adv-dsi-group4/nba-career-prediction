{
 "cells": [
  {
   "cell_type": "markdown",
   "metadata": {},
   "source": [
    "# Instructions\n",
    "\n",
    "Please refer to [README file details]\n",
    "\n",
    "Here's the docker cmd to run from /notebooks:\n",
    "\n",
    "docker run  -dit --rm --name notebook -p 8888:8888 -e JUPYTER_ENABLE_LAB=yes -v \"$PWD\"/..:/home/jovyan/work ajduncanson/nba-modelling\n"
   ]
  },
  {
   "cell_type": "markdown",
   "metadata": {},
   "source": [
    "### Introduction"
   ]
  },
  {
   "cell_type": "markdown",
   "metadata": {},
   "source": [
    "This notebook is an experiment of building a model that will predict if a rookie player will last at least 5 years in the league based on his stats.\n",
    "\n",
    "In the National Basketball Association (NBA), a rookie is any player who has never played a game in the NBA until that year. At the end of the season the NBA awards the best rookie with the NBA Rookie of the Year Award.\n",
    "\n",
    "Moving to the NBA league is a big deal for any basketball player. Sport commentators and fans are very excited to follow the start of their careers and guess how they will perform in the future.\n",
    "\n",
    "In this experiment, LogisticRegression model is used."
   ]
  },
  {
   "cell_type": "markdown",
   "metadata": {},
   "source": [
    "### Import the libraries"
   ]
  },
  {
   "cell_type": "code",
   "execution_count": 1,
   "metadata": {},
   "outputs": [],
   "source": [
    "import pandas as pd\n",
    "import numpy as np\n",
    "import imblearn\n",
    "\n",
    "from sklearn.preprocessing import StandardScaler, PolynomialFeatures\n",
    "import os\n",
    "import sys\n",
    "sys.path.append(os.path.abspath('..'))\n",
    "\n",
    "from src.common_lib import DataReader, NBARawData\n",
    "from src.common_lib import confusion_matrix, plot_roc, eval_report\n",
    "\n",
    "from sklearn.linear_model import LogisticRegression \n",
    "from sklearn.metrics import accuracy_score, roc_curve, auc\n",
    "import matplotlib.pyplot as plt\n",
    "from joblib import dump\n",
    "\n",
    "from collections import Counter\n",
    "\n",
    "import warnings\n",
    "warnings.simplefilter(action='ignore', category=FutureWarning)\n",
    "\n",
    "%load_ext autoreload\n",
    "%autoreload 2"
   ]
  },
  {
   "cell_type": "markdown",
   "metadata": {},
   "source": [
    "### Load the data"
   ]
  },
  {
   "cell_type": "code",
   "execution_count": 2,
   "metadata": {},
   "outputs": [],
   "source": [
    "# Instantiate the custom data reader class\n",
    "data_reader = DataReader()\n",
    "\n",
    "# Load Raw Train Data\n",
    "train_df = data_reader.read_data(NBARawData.TRAIN)\n",
    "\n",
    "# Load Test Raw Data\n",
    "test_df = data_reader.read_data(NBARawData.TEST)"
   ]
  },
  {
   "cell_type": "markdown",
   "metadata": {},
   "source": [
    "### Class Balance Check on Raw Data"
   ]
  },
  {
   "cell_type": "code",
   "execution_count": 3,
   "metadata": {},
   "outputs": [
    {
     "name": "stdout",
     "output_type": "stream",
     "text": [
      "Propotion:  0.2 :1\n",
      "Counter({6669: 1, 1331: 1})\n"
     ]
    },
    {
     "data": {
      "image/png": "[encoded data removed]",
      "text/plain": [
       "<Figure size 432x288 with 1 Axes>"
      ]
     },
     "metadata": {
      "needs_background": "light"
     },
     "output_type": "display_data"
    }
   ],
   "source": [
    "target_count = train_df[\"TARGET_5Yrs\"].value_counts()\n",
    "print('Propotion: ', round(target_count[0]/ target_count[1], 2), \":1\")\n",
    "\n",
    "print( Counter(target_count))\n",
    "data_reader.plot_class_balance(train_df[\"TARGET_5Yrs\"])"
   ]
  },
  {
   "cell_type": "markdown",
   "metadata": {},
   "source": [
    "### Scaling with Standard Scaler"
   ]
  },
  {
   "cell_type": "code",
   "execution_count": 4,
   "metadata": {},
   "outputs": [
    {
     "data": {
      "text/html": [
       "<div>\n",
       "<style scoped>\n",
       "    .dataframe tbody tr th:only-of-type {\n",
       "        vertical-align: middle;\n",
       "    }\n",
       "\n",
       "    .dataframe tbody tr th {\n",
       "        vertical-align: top;\n",
       "    }\n",
       "\n",
       "    .dataframe thead th {\n",
       "        text-align: right;\n",
       "    }\n",
       "</style>\n",
       "<table border=\"1\" class=\"dataframe\">\n",
       "  <thead>\n",
       "    <tr style=\"text-align: right;\">\n",
       "      <th></th>\n",
       "      <th>Id_old</th>\n",
       "      <th>Id</th>\n",
       "      <th>GP</th>\n",
       "      <th>MIN</th>\n",
       "      <th>PTS</th>\n",
       "      <th>FGM</th>\n",
       "      <th>FGA</th>\n",
       "      <th>FG%</th>\n",
       "      <th>3P Made</th>\n",
       "      <th>3PA</th>\n",
       "      <th>...</th>\n",
       "      <th>FTM</th>\n",
       "      <th>FTA</th>\n",
       "      <th>FT%</th>\n",
       "      <th>OREB</th>\n",
       "      <th>DREB</th>\n",
       "      <th>REB</th>\n",
       "      <th>AST</th>\n",
       "      <th>STL</th>\n",
       "      <th>BLK</th>\n",
       "      <th>TOV</th>\n",
       "    </tr>\n",
       "  </thead>\n",
       "  <tbody>\n",
       "    <tr>\n",
       "      <th>0</th>\n",
       "      <td>0.930059</td>\n",
       "      <td>-1.731834</td>\n",
       "      <td>1.006100</td>\n",
       "      <td>0.640574</td>\n",
       "      <td>0.123403</td>\n",
       "      <td>0.113959</td>\n",
       "      <td>0.047090</td>\n",
       "      <td>0.177269</td>\n",
       "      <td>-0.428374</td>\n",
       "      <td>-0.486911</td>\n",
       "      <td>...</td>\n",
       "      <td>0.655953</td>\n",
       "      <td>0.760387</td>\n",
       "      <td>0.070392</td>\n",
       "      <td>1.428377</td>\n",
       "      <td>-0.121037</td>\n",
       "      <td>0.266040</td>\n",
       "      <td>1.161949</td>\n",
       "      <td>1.107242</td>\n",
       "      <td>-0.055071</td>\n",
       "      <td>0.473210</td>\n",
       "    </tr>\n",
       "    <tr>\n",
       "      <th>1</th>\n",
       "      <td>-0.380914</td>\n",
       "      <td>-1.731401</td>\n",
       "      <td>0.714005</td>\n",
       "      <td>0.360766</td>\n",
       "      <td>0.748626</td>\n",
       "      <td>0.822648</td>\n",
       "      <td>0.465578</td>\n",
       "      <td>1.704465</td>\n",
       "      <td>-1.469853</td>\n",
       "      <td>-1.712288</td>\n",
       "      <td>...</td>\n",
       "      <td>1.087875</td>\n",
       "      <td>1.319370</td>\n",
       "      <td>-0.341888</td>\n",
       "      <td>3.210407</td>\n",
       "      <td>1.100107</td>\n",
       "      <td>1.608950</td>\n",
       "      <td>-0.681844</td>\n",
       "      <td>-0.364787</td>\n",
       "      <td>0.432148</td>\n",
       "      <td>0.196671</td>\n",
       "    </tr>\n",
       "    <tr>\n",
       "      <th>2</th>\n",
       "      <td>-0.286878</td>\n",
       "      <td>-1.730968</td>\n",
       "      <td>1.298195</td>\n",
       "      <td>0.058574</td>\n",
       "      <td>-0.640758</td>\n",
       "      <td>-0.535673</td>\n",
       "      <td>-0.482994</td>\n",
       "      <td>-0.293888</td>\n",
       "      <td>0.352736</td>\n",
       "      <td>0.361427</td>\n",
       "      <td>...</td>\n",
       "      <td>-1.071732</td>\n",
       "      <td>-1.076272</td>\n",
       "      <td>0.415557</td>\n",
       "      <td>-0.608229</td>\n",
       "      <td>-0.264701</td>\n",
       "      <td>-0.405415</td>\n",
       "      <td>-0.608092</td>\n",
       "      <td>-0.610125</td>\n",
       "      <td>-0.055071</td>\n",
       "      <td>-0.909485</td>\n",
       "    </tr>\n",
       "    <tr>\n",
       "      <th>3</th>\n",
       "      <td>1.743194</td>\n",
       "      <td>-1.730535</td>\n",
       "      <td>0.012976</td>\n",
       "      <td>0.058574</td>\n",
       "      <td>0.216029</td>\n",
       "      <td>0.409246</td>\n",
       "      <td>0.130788</td>\n",
       "      <td>1.282049</td>\n",
       "      <td>0.092366</td>\n",
       "      <td>-0.015612</td>\n",
       "      <td>...</td>\n",
       "      <td>-0.531830</td>\n",
       "      <td>-0.357579</td>\n",
       "      <td>-0.428180</td>\n",
       "      <td>-0.353653</td>\n",
       "      <td>-0.121037</td>\n",
       "      <td>-0.117649</td>\n",
       "      <td>0.129425</td>\n",
       "      <td>-0.610125</td>\n",
       "      <td>-0.176876</td>\n",
       "      <td>0.888019</td>\n",
       "    </tr>\n",
       "    <tr>\n",
       "      <th>4</th>\n",
       "      <td>-0.348731</td>\n",
       "      <td>-1.730102</td>\n",
       "      <td>0.012976</td>\n",
       "      <td>-0.086926</td>\n",
       "      <td>-0.826009</td>\n",
       "      <td>-0.653788</td>\n",
       "      <td>-0.789885</td>\n",
       "      <td>1.005854</td>\n",
       "      <td>0.613106</td>\n",
       "      <td>0.549947</td>\n",
       "      <td>...</td>\n",
       "      <td>-1.287692</td>\n",
       "      <td>-1.156127</td>\n",
       "      <td>-1.665021</td>\n",
       "      <td>1.682952</td>\n",
       "      <td>0.381787</td>\n",
       "      <td>0.793612</td>\n",
       "      <td>-0.903099</td>\n",
       "      <td>-0.610125</td>\n",
       "      <td>0.432148</td>\n",
       "      <td>-0.771215</td>\n",
       "    </tr>\n",
       "    <tr>\n",
       "      <th>...</th>\n",
       "      <td>...</td>\n",
       "      <td>...</td>\n",
       "      <td>...</td>\n",
       "      <td>...</td>\n",
       "      <td>...</td>\n",
       "      <td>...</td>\n",
       "      <td>...</td>\n",
       "      <td>...</td>\n",
       "      <td>...</td>\n",
       "      <td>...</td>\n",
       "      <td>...</td>\n",
       "      <td>...</td>\n",
       "      <td>...</td>\n",
       "      <td>...</td>\n",
       "      <td>...</td>\n",
       "      <td>...</td>\n",
       "      <td>...</td>\n",
       "      <td>...</td>\n",
       "      <td>...</td>\n",
       "      <td>...</td>\n",
       "      <td>...</td>\n",
       "    </tr>\n",
       "    <tr>\n",
       "      <th>7995</th>\n",
       "      <td>-0.970776</td>\n",
       "      <td>1.730102</td>\n",
       "      <td>-1.798014</td>\n",
       "      <td>-1.049465</td>\n",
       "      <td>-1.265980</td>\n",
       "      <td>-1.244362</td>\n",
       "      <td>-1.236272</td>\n",
       "      <td>-0.700057</td>\n",
       "      <td>-0.949113</td>\n",
       "      <td>-0.958210</td>\n",
       "      <td>...</td>\n",
       "      <td>-1.071732</td>\n",
       "      <td>-1.076272</td>\n",
       "      <td>-0.543235</td>\n",
       "      <td>-0.990093</td>\n",
       "      <td>-0.264701</td>\n",
       "      <td>-0.645220</td>\n",
       "      <td>-0.829347</td>\n",
       "      <td>-0.855464</td>\n",
       "      <td>-0.055071</td>\n",
       "      <td>-1.186024</td>\n",
       "    </tr>\n",
       "    <tr>\n",
       "      <th>7996</th>\n",
       "      <td>1.212418</td>\n",
       "      <td>1.730535</td>\n",
       "      <td>-0.512795</td>\n",
       "      <td>-1.407619</td>\n",
       "      <td>-1.265980</td>\n",
       "      <td>-1.244362</td>\n",
       "      <td>-1.347869</td>\n",
       "      <td>0.664672</td>\n",
       "      <td>-0.428374</td>\n",
       "      <td>-0.675430</td>\n",
       "      <td>...</td>\n",
       "      <td>-1.287692</td>\n",
       "      <td>-1.235982</td>\n",
       "      <td>-0.121366</td>\n",
       "      <td>-0.099078</td>\n",
       "      <td>-0.767525</td>\n",
       "      <td>-0.597259</td>\n",
       "      <td>-1.124354</td>\n",
       "      <td>-1.591478</td>\n",
       "      <td>0.066734</td>\n",
       "      <td>-1.324294</td>\n",
       "    </tr>\n",
       "    <tr>\n",
       "      <th>7997</th>\n",
       "      <td>-0.331885</td>\n",
       "      <td>1.730968</td>\n",
       "      <td>1.298195</td>\n",
       "      <td>1.077074</td>\n",
       "      <td>0.794939</td>\n",
       "      <td>0.704533</td>\n",
       "      <td>0.772469</td>\n",
       "      <td>0.079788</td>\n",
       "      <td>-0.168004</td>\n",
       "      <td>-0.204131</td>\n",
       "      <td>...</td>\n",
       "      <td>1.519796</td>\n",
       "      <td>1.558934</td>\n",
       "      <td>-0.159718</td>\n",
       "      <td>-0.099078</td>\n",
       "      <td>-0.049205</td>\n",
       "      <td>-0.069687</td>\n",
       "      <td>1.309452</td>\n",
       "      <td>1.352580</td>\n",
       "      <td>-0.055071</td>\n",
       "      <td>0.749749</td>\n",
       "    </tr>\n",
       "    <tr>\n",
       "      <th>7998</th>\n",
       "      <td>-1.399219</td>\n",
       "      <td>1.731401</td>\n",
       "      <td>-1.389081</td>\n",
       "      <td>-1.217350</td>\n",
       "      <td>-1.103885</td>\n",
       "      <td>-1.067190</td>\n",
       "      <td>-1.096776</td>\n",
       "      <td>-0.732551</td>\n",
       "      <td>-1.469853</td>\n",
       "      <td>-1.240989</td>\n",
       "      <td>...</td>\n",
       "      <td>-0.855771</td>\n",
       "      <td>-0.996417</td>\n",
       "      <td>0.281326</td>\n",
       "      <td>-0.862805</td>\n",
       "      <td>-1.126685</td>\n",
       "      <td>-1.124831</td>\n",
       "      <td>-1.050602</td>\n",
       "      <td>-0.855464</td>\n",
       "      <td>0.066734</td>\n",
       "      <td>-1.047755</td>\n",
       "    </tr>\n",
       "    <tr>\n",
       "      <th>7999</th>\n",
       "      <td>-0.994914</td>\n",
       "      <td>1.731834</td>\n",
       "      <td>-0.804890</td>\n",
       "      <td>0.069766</td>\n",
       "      <td>-0.571288</td>\n",
       "      <td>-0.653788</td>\n",
       "      <td>-0.315599</td>\n",
       "      <td>-1.951059</td>\n",
       "      <td>1.133846</td>\n",
       "      <td>1.492545</td>\n",
       "      <td>...</td>\n",
       "      <td>-0.639810</td>\n",
       "      <td>-0.517289</td>\n",
       "      <td>-0.121366</td>\n",
       "      <td>-1.244669</td>\n",
       "      <td>-0.767525</td>\n",
       "      <td>-0.980948</td>\n",
       "      <td>1.383204</td>\n",
       "      <td>0.616566</td>\n",
       "      <td>-0.664095</td>\n",
       "      <td>0.196671</td>\n",
       "    </tr>\n",
       "  </tbody>\n",
       "</table>\n",
       "<p>8000 rows × 21 columns</p>\n",
       "</div>"
      ],
      "text/plain": [
       "        Id_old        Id        GP       MIN       PTS       FGM       FGA  \\\n",
       "0     0.930059 -1.731834  1.006100  0.640574  0.123403  0.113959  0.047090   \n",
       "1    -0.380914 -1.731401  0.714005  0.360766  0.748626  0.822648  0.465578   \n",
       "2    -0.286878 -1.730968  1.298195  0.058574 -0.640758 -0.535673 -0.482994   \n",
       "3     1.743194 -1.730535  0.012976  0.058574  0.216029  0.409246  0.130788   \n",
       "4    -0.348731 -1.730102  0.012976 -0.086926 -0.826009 -0.653788 -0.789885   \n",
       "...        ...       ...       ...       ...       ...       ...       ...   \n",
       "7995 -0.970776  1.730102 -1.798014 -1.049465 -1.265980 -1.244362 -1.236272   \n",
       "7996  1.212418  1.730535 -0.512795 -1.407619 -1.265980 -1.244362 -1.347869   \n",
       "7997 -0.331885  1.730968  1.298195  1.077074  0.794939  0.704533  0.772469   \n",
       "7998 -1.399219  1.731401 -1.389081 -1.217350 -1.103885 -1.067190 -1.096776   \n",
       "7999 -0.994914  1.731834 -0.804890  0.069766 -0.571288 -0.653788 -0.315599   \n",
       "\n",
       "           FG%   3P Made       3PA  ...       FTM       FTA       FT%  \\\n",
       "0     0.177269 -0.428374 -0.486911  ...  0.655953  0.760387  0.070392   \n",
       "1     1.704465 -1.469853 -1.712288  ...  1.087875  1.319370 -0.341888   \n",
       "2    -0.293888  0.352736  0.361427  ... -1.071732 -1.076272  0.415557   \n",
       "3     1.282049  0.092366 -0.015612  ... -0.531830 -0.357579 -0.428180   \n",
       "4     1.005854  0.613106  0.549947  ... -1.287692 -1.156127 -1.665021   \n",
       "...        ...       ...       ...  ...       ...       ...       ...   \n",
       "7995 -0.700057 -0.949113 -0.958210  ... -1.071732 -1.076272 -0.543235   \n",
       "7996  0.664672 -0.428374 -0.675430  ... -1.287692 -1.235982 -0.121366   \n",
       "7997  0.079788 -0.168004 -0.204131  ...  1.519796  1.558934 -0.159718   \n",
       "7998 -0.732551 -1.469853 -1.240989  ... -0.855771 -0.996417  0.281326   \n",
       "7999 -1.951059  1.133846  1.492545  ... -0.639810 -0.517289 -0.121366   \n",
       "\n",
       "          OREB      DREB       REB       AST       STL       BLK       TOV  \n",
       "0     1.428377 -0.121037  0.266040  1.161949  1.107242 -0.055071  0.473210  \n",
       "1     3.210407  1.100107  1.608950 -0.681844 -0.364787  0.432148  0.196671  \n",
       "2    -0.608229 -0.264701 -0.405415 -0.608092 -0.610125 -0.055071 -0.909485  \n",
       "3    -0.353653 -0.121037 -0.117649  0.129425 -0.610125 -0.176876  0.888019  \n",
       "4     1.682952  0.381787  0.793612 -0.903099 -0.610125  0.432148 -0.771215  \n",
       "...        ...       ...       ...       ...       ...       ...       ...  \n",
       "7995 -0.990093 -0.264701 -0.645220 -0.829347 -0.855464 -0.055071 -1.186024  \n",
       "7996 -0.099078 -0.767525 -0.597259 -1.124354 -1.591478  0.066734 -1.324294  \n",
       "7997 -0.099078 -0.049205 -0.069687  1.309452  1.352580 -0.055071  0.749749  \n",
       "7998 -0.862805 -1.126685 -1.124831 -1.050602 -0.855464  0.066734 -1.047755  \n",
       "7999 -1.244669 -0.767525 -0.980948  1.383204  0.616566 -0.664095  0.196671  \n",
       "\n",
       "[8000 rows x 21 columns]"
      ]
     },
     "execution_count": 4,
     "metadata": {},
     "output_type": "execute_result"
    }
   ],
   "source": [
    "## Scaling\n",
    "df_cleaned = train_df.copy()\n",
    "target = df_cleaned.pop('TARGET_5Yrs')\n",
    "\n",
    "train_df_scaled = data_reader.scale_features_by_standard_scaler(df_cleaned)\n",
    "train_df_scaled"
   ]
  },
  {
   "cell_type": "markdown",
   "metadata": {},
   "source": [
    "### Select Features"
   ]
  },
  {
   "cell_type": "code",
   "execution_count": 5,
   "metadata": {},
   "outputs": [
    {
     "data": {
      "image/png": "[encoded data removed]",
      "text/plain": [
       "<Figure size 432x288 with 2 Axes>"
      ]
     },
     "metadata": {
      "needs_background": "light"
     },
     "output_type": "display_data"
    }
   ],
   "source": [
    "train_df_scaled['TARGET_5Yrs'] = target\n",
    "selected_features = data_reader.select_feature_by_correlation(train_df_scaled, ['Id', 'Id_old'])"
   ]
  },
  {
   "cell_type": "code",
   "execution_count": 6,
   "metadata": {},
   "outputs": [
    {
     "data": {
      "text/plain": [
       "Index(['GP', 'MIN', 'FG%', '3P Made', '3P%', 'FTM', 'FT%', 'OREB', 'DREB',\n",
       "       'AST', 'STL', 'BLK', 'TOV', 'TARGET_5Yrs'],\n",
       "      dtype='object')"
      ]
     },
     "execution_count": 6,
     "metadata": {},
     "output_type": "execute_result"
    }
   ],
   "source": [
    "selected_features"
   ]
  },
  {
   "cell_type": "code",
   "execution_count": 7,
   "metadata": {},
   "outputs": [
    {
     "data": {
      "text/html": [
       "<div>\n",
       "<style scoped>\n",
       "    .dataframe tbody tr th:only-of-type {\n",
       "        vertical-align: middle;\n",
       "    }\n",
       "\n",
       "    .dataframe tbody tr th {\n",
       "        vertical-align: top;\n",
       "    }\n",
       "\n",
       "    .dataframe thead th {\n",
       "        text-align: right;\n",
       "    }\n",
       "</style>\n",
       "<table border=\"1\" class=\"dataframe\">\n",
       "  <thead>\n",
       "    <tr style=\"text-align: right;\">\n",
       "      <th></th>\n",
       "      <th>GP</th>\n",
       "      <th>MIN</th>\n",
       "      <th>FG%</th>\n",
       "      <th>3P Made</th>\n",
       "      <th>3P%</th>\n",
       "      <th>FTM</th>\n",
       "      <th>FT%</th>\n",
       "      <th>OREB</th>\n",
       "      <th>DREB</th>\n",
       "      <th>AST</th>\n",
       "      <th>STL</th>\n",
       "      <th>BLK</th>\n",
       "      <th>TOV</th>\n",
       "      <th>TARGET_5Yrs</th>\n",
       "    </tr>\n",
       "  </thead>\n",
       "  <tbody>\n",
       "    <tr>\n",
       "      <th>0</th>\n",
       "      <td>1.006100</td>\n",
       "      <td>0.640574</td>\n",
       "      <td>0.177269</td>\n",
       "      <td>-0.428374</td>\n",
       "      <td>0.188493</td>\n",
       "      <td>0.655953</td>\n",
       "      <td>0.070392</td>\n",
       "      <td>1.428377</td>\n",
       "      <td>-0.121037</td>\n",
       "      <td>1.161949</td>\n",
       "      <td>1.107242</td>\n",
       "      <td>-0.055071</td>\n",
       "      <td>0.473210</td>\n",
       "      <td>1</td>\n",
       "    </tr>\n",
       "    <tr>\n",
       "      <th>1</th>\n",
       "      <td>0.714005</td>\n",
       "      <td>0.360766</td>\n",
       "      <td>1.704465</td>\n",
       "      <td>-1.469853</td>\n",
       "      <td>0.957140</td>\n",
       "      <td>1.087875</td>\n",
       "      <td>-0.341888</td>\n",
       "      <td>3.210407</td>\n",
       "      <td>1.100107</td>\n",
       "      <td>-0.681844</td>\n",
       "      <td>-0.364787</td>\n",
       "      <td>0.432148</td>\n",
       "      <td>0.196671</td>\n",
       "      <td>1</td>\n",
       "    </tr>\n",
       "    <tr>\n",
       "      <th>2</th>\n",
       "      <td>1.298195</td>\n",
       "      <td>0.058574</td>\n",
       "      <td>-0.293888</td>\n",
       "      <td>0.352736</td>\n",
       "      <td>0.919645</td>\n",
       "      <td>-1.071732</td>\n",
       "      <td>0.415557</td>\n",
       "      <td>-0.608229</td>\n",
       "      <td>-0.264701</td>\n",
       "      <td>-0.608092</td>\n",
       "      <td>-0.610125</td>\n",
       "      <td>-0.055071</td>\n",
       "      <td>-0.909485</td>\n",
       "      <td>1</td>\n",
       "    </tr>\n",
       "    <tr>\n",
       "      <th>3</th>\n",
       "      <td>0.012976</td>\n",
       "      <td>0.058574</td>\n",
       "      <td>1.282049</td>\n",
       "      <td>0.092366</td>\n",
       "      <td>0.257234</td>\n",
       "      <td>-0.531830</td>\n",
       "      <td>-0.428180</td>\n",
       "      <td>-0.353653</td>\n",
       "      <td>-0.121037</td>\n",
       "      <td>0.129425</td>\n",
       "      <td>-0.610125</td>\n",
       "      <td>-0.176876</td>\n",
       "      <td>0.888019</td>\n",
       "      <td>1</td>\n",
       "    </tr>\n",
       "    <tr>\n",
       "      <th>4</th>\n",
       "      <td>0.012976</td>\n",
       "      <td>-0.086926</td>\n",
       "      <td>1.005854</td>\n",
       "      <td>0.613106</td>\n",
       "      <td>-0.367682</td>\n",
       "      <td>-1.287692</td>\n",
       "      <td>-1.665021</td>\n",
       "      <td>1.682952</td>\n",
       "      <td>0.381787</td>\n",
       "      <td>-0.903099</td>\n",
       "      <td>-0.610125</td>\n",
       "      <td>0.432148</td>\n",
       "      <td>-0.771215</td>\n",
       "      <td>1</td>\n",
       "    </tr>\n",
       "  </tbody>\n",
       "</table>\n",
       "</div>"
      ],
      "text/plain": [
       "         GP       MIN       FG%   3P Made       3P%       FTM       FT%  \\\n",
       "0  1.006100  0.640574  0.177269 -0.428374  0.188493  0.655953  0.070392   \n",
       "1  0.714005  0.360766  1.704465 -1.469853  0.957140  1.087875 -0.341888   \n",
       "2  1.298195  0.058574 -0.293888  0.352736  0.919645 -1.071732  0.415557   \n",
       "3  0.012976  0.058574  1.282049  0.092366  0.257234 -0.531830 -0.428180   \n",
       "4  0.012976 -0.086926  1.005854  0.613106 -0.367682 -1.287692 -1.665021   \n",
       "\n",
       "       OREB      DREB       AST       STL       BLK       TOV  TARGET_5Yrs  \n",
       "0  1.428377 -0.121037  1.161949  1.107242 -0.055071  0.473210            1  \n",
       "1  3.210407  1.100107 -0.681844 -0.364787  0.432148  0.196671            1  \n",
       "2 -0.608229 -0.264701 -0.608092 -0.610125 -0.055071 -0.909485            1  \n",
       "3 -0.353653 -0.121037  0.129425 -0.610125 -0.176876  0.888019            1  \n",
       "4  1.682952  0.381787 -0.903099 -0.610125  0.432148 -0.771215            1  "
      ]
     },
     "execution_count": 7,
     "metadata": {},
     "output_type": "execute_result"
    }
   ],
   "source": [
    "train_df_scaled  = train_df_scaled[selected_features]\n",
    "train_df_scaled.head()"
   ]
  },
  {
   "cell_type": "markdown",
   "metadata": {},
   "source": [
    "### Split Train and Test on Scaled Data with Selected Features"
   ]
  },
  {
   "cell_type": "code",
   "execution_count": 8,
   "metadata": {},
   "outputs": [],
   "source": [
    "X_train, X_val, y_train, y_val = data_reader.split_data(train_df_scaled)"
   ]
  },
  {
   "cell_type": "code",
   "execution_count": 9,
   "metadata": {},
   "outputs": [
    {
     "name": "stdout",
     "output_type": "stream",
     "text": [
      "Counter({1: 5326, 0: 1074})\n"
     ]
    },
    {
     "data": {
      "image/png": "[encoded data removed]",
      "text/plain": [
       "<Figure size 432x288 with 1 Axes>"
      ]
     },
     "metadata": {
      "needs_background": "light"
     },
     "output_type": "display_data"
    }
   ],
   "source": [
    "### Visualisation Before Sampling Classification Count\n",
    "print( Counter(y_train))\n",
    "data_reader.plot_class_balance(y_train)"
   ]
  },
  {
   "cell_type": "code",
   "execution_count": 10,
   "metadata": {},
   "outputs": [
    {
     "name": "stdout",
     "output_type": "stream",
     "text": [
      "Counter({1: 1343, 0: 257})\n"
     ]
    },
    {
     "data": {
      "image/png": "[encoded data removed]",
      "text/plain": [
       "<Figure size 432x288 with 1 Axes>"
      ]
     },
     "metadata": {
      "needs_background": "light"
     },
     "output_type": "display_data"
    }
   ],
   "source": [
    "print(Counter(y_val))\n",
    "data_reader.plot_class_balance(y_val)"
   ]
  },
  {
   "cell_type": "markdown",
   "metadata": {},
   "source": [
    "### Re-sampling -  Over Sampling"
   ]
  },
  {
   "cell_type": "code",
   "execution_count": 11,
   "metadata": {},
   "outputs": [
    {
     "data": {
      "image/png": "[encoded data removed]",
      "text/plain": [
       "<Figure size 432x288 with 1 Axes>"
      ]
     },
     "metadata": {
      "needs_background": "light"
     },
     "output_type": "display_data"
    }
   ],
   "source": [
    "# Resample Train Data\n",
    "X_train_res, y_train_res = data_reader.resample_data_upsample_smote(X_train, y_train)\n",
    "X_val_res, y_val_res = data_reader.resample_data_upsample_smote(X_val, y_val)\n",
    "# Re-plot the target\n",
    "data_reader.plot_class_balance(y_train_res)"
   ]
  },
  {
   "cell_type": "markdown",
   "metadata": {},
   "source": [
    "### Build The Model - Logistic Regression"
   ]
  },
  {
   "cell_type": "code",
   "execution_count": 12,
   "metadata": {},
   "outputs": [],
   "source": [
    "log_reg = LogisticRegression().fit(X_train_res, y_train_res)"
   ]
  },
  {
   "cell_type": "markdown",
   "metadata": {},
   "source": [
    "### Accuracy Test on Train Set"
   ]
  },
  {
   "cell_type": "code",
   "execution_count": 13,
   "metadata": {},
   "outputs": [],
   "source": [
    "y_train_prob = log_reg.predict_proba(X_train_res)[:,1]\n",
    "\n",
    "## Check Accuracy Score\n",
    "y_pred_train=log_reg.predict(X_train_res)\n"
   ]
  },
  {
   "cell_type": "code",
   "execution_count": 14,
   "metadata": {},
   "outputs": [
    {
     "name": "stdout",
     "output_type": "stream",
     "text": [
      "Confusion Matrix:\n",
      "        pred:0  pred:1\n",
      "true:0    3610    1716\n",
      "true:1    1891    3435\n",
      "\n",
      "Classification Report:\n",
      "              precision    recall  f1-score   support\n",
      "\n",
      "           0       0.66      0.68      0.67      5326\n",
      "           1       0.67      0.64      0.66      5326\n",
      "\n",
      "    accuracy                           0.66     10652\n",
      "   macro avg       0.66      0.66      0.66     10652\n",
      "weighted avg       0.66      0.66      0.66     10652\n",
      "\n",
      "\n",
      "ROC Curve:\n",
      "AUC = 0.661\n"
     ]
    },
    {
     "data": {
      "image/png": "[encoded data removed]",
      "text/plain": [
       "<Figure size 432x288 with 1 Axes>"
      ]
     },
     "metadata": {
      "needs_background": "light"
     },
     "output_type": "display_data"
    }
   ],
   "source": [
    "## Confusion matrix, metrics and AUC plot\n",
    "eval_report(y_train_res, y_pred_train)"
   ]
  },
  {
   "cell_type": "markdown",
   "metadata": {},
   "source": [
    "### Accuracy Check on Validation Set"
   ]
  },
  {
   "cell_type": "code",
   "execution_count": 15,
   "metadata": {},
   "outputs": [],
   "source": [
    "y_prob_val=log_reg.predict_proba(X_val_res)[:,1]\n",
    "\n",
    "## Check Accuracy Score\n",
    "y_pred_val=log_reg.predict(X_val_res)\n"
   ]
  },
  {
   "cell_type": "code",
   "execution_count": 16,
   "metadata": {},
   "outputs": [
    {
     "name": "stdout",
     "output_type": "stream",
     "text": [
      "Confusion Matrix:\n",
      "        pred:0  pred:1\n",
      "true:0     890     453\n",
      "true:1     491     852\n",
      "\n",
      "Classification Report:\n",
      "              precision    recall  f1-score   support\n",
      "\n",
      "           0       0.64      0.66      0.65      1343\n",
      "           1       0.65      0.63      0.64      1343\n",
      "\n",
      "    accuracy                           0.65      2686\n",
      "   macro avg       0.65      0.65      0.65      2686\n",
      "weighted avg       0.65      0.65      0.65      2686\n",
      "\n",
      "\n",
      "ROC Curve:\n",
      "AUC = 0.649\n"
     ]
    },
    {
     "data": {
      "image/png": "[encoded data removed]",
      "text/plain": [
       "<Figure size 432x288 with 1 Axes>"
      ]
     },
     "metadata": {
      "needs_background": "light"
     },
     "output_type": "display_data"
    }
   ],
   "source": [
    "## Confusion matrix, metrics and AUC plot\n",
    "eval_report(y_val_res, y_pred_val)"
   ]
  },
  {
   "cell_type": "markdown",
   "metadata": {},
   "source": [
    "### Prediction on Test Set "
   ]
  },
  {
   "cell_type": "code",
   "execution_count": 17,
   "metadata": {},
   "outputs": [],
   "source": [
    "# Remove the target column, because the raw test set does not contain it\n",
    "features_without_target = np.delete(selected_features, 13)\n",
    "test_df = test_df[features_without_target]\n",
    "\n",
    "# apply scaling\n",
    "test_df_scaled =  data_reader.scale_features_by_standard_scaler(test_df)\n"
   ]
  },
  {
   "cell_type": "code",
   "execution_count": 18,
   "metadata": {},
   "outputs": [
    {
     "data": {
      "text/html": [
       "<div>\n",
       "<style scoped>\n",
       "    .dataframe tbody tr th:only-of-type {\n",
       "        vertical-align: middle;\n",
       "    }\n",
       "\n",
       "    .dataframe tbody tr th {\n",
       "        vertical-align: top;\n",
       "    }\n",
       "\n",
       "    .dataframe thead th {\n",
       "        text-align: right;\n",
       "    }\n",
       "</style>\n",
       "<table border=\"1\" class=\"dataframe\">\n",
       "  <thead>\n",
       "    <tr style=\"text-align: right;\">\n",
       "      <th></th>\n",
       "      <th>Id</th>\n",
       "      <th>TARGET_5Yrs</th>\n",
       "    </tr>\n",
       "  </thead>\n",
       "  <tbody>\n",
       "    <tr>\n",
       "      <th>0</th>\n",
       "      <td>0</td>\n",
       "      <td>0.477408</td>\n",
       "    </tr>\n",
       "    <tr>\n",
       "      <th>1</th>\n",
       "      <td>1</td>\n",
       "      <td>0.454545</td>\n",
       "    </tr>\n",
       "    <tr>\n",
       "      <th>2</th>\n",
       "      <td>2</td>\n",
       "      <td>0.732773</td>\n",
       "    </tr>\n",
       "    <tr>\n",
       "      <th>3</th>\n",
       "      <td>3</td>\n",
       "      <td>0.783287</td>\n",
       "    </tr>\n",
       "    <tr>\n",
       "      <th>4</th>\n",
       "      <td>4</td>\n",
       "      <td>0.412399</td>\n",
       "    </tr>\n",
       "    <tr>\n",
       "      <th>5</th>\n",
       "      <td>5</td>\n",
       "      <td>0.714216</td>\n",
       "    </tr>\n",
       "    <tr>\n",
       "      <th>6</th>\n",
       "      <td>6</td>\n",
       "      <td>0.333125</td>\n",
       "    </tr>\n",
       "    <tr>\n",
       "      <th>7</th>\n",
       "      <td>7</td>\n",
       "      <td>0.419366</td>\n",
       "    </tr>\n",
       "    <tr>\n",
       "      <th>8</th>\n",
       "      <td>8</td>\n",
       "      <td>0.559182</td>\n",
       "    </tr>\n",
       "    <tr>\n",
       "      <th>9</th>\n",
       "      <td>9</td>\n",
       "      <td>0.201586</td>\n",
       "    </tr>\n",
       "  </tbody>\n",
       "</table>\n",
       "</div>"
      ],
      "text/plain": [
       "   Id  TARGET_5Yrs\n",
       "0   0     0.477408\n",
       "1   1     0.454545\n",
       "2   2     0.732773\n",
       "3   3     0.783287\n",
       "4   4     0.412399\n",
       "5   5     0.714216\n",
       "6   6     0.333125\n",
       "7   7     0.419366\n",
       "8   8     0.559182\n",
       "9   9     0.201586"
      ]
     },
     "execution_count": 18,
     "metadata": {},
     "output_type": "execute_result"
    }
   ],
   "source": [
    "# predictions\n",
    "\n",
    "y_test_proba =log_reg.predict_proba(test_df_scaled)[:,1]\n",
    "\n",
    "final_prediction_test = pd.DataFrame({'Id': range(0,3799), 'TARGET_5Yrs': [p for p in y_test_proba]})\n",
    "\n",
    "final_prediction_test.head(10)"
   ]
  },
  {
   "cell_type": "markdown",
   "metadata": {},
   "source": [
    "### Coefficients"
   ]
  },
  {
   "cell_type": "code",
   "execution_count": 19,
   "metadata": {},
   "outputs": [
    {
     "data": {
      "text/html": [
       "<div>\n",
       "<style scoped>\n",
       "    .dataframe tbody tr th:only-of-type {\n",
       "        vertical-align: middle;\n",
       "    }\n",
       "\n",
       "    .dataframe tbody tr th {\n",
       "        vertical-align: top;\n",
       "    }\n",
       "\n",
       "    .dataframe thead th {\n",
       "        text-align: right;\n",
       "    }\n",
       "</style>\n",
       "<table border=\"1\" class=\"dataframe\">\n",
       "  <thead>\n",
       "    <tr style=\"text-align: right;\">\n",
       "      <th></th>\n",
       "      <th>Feature</th>\n",
       "      <th>Coefficient</th>\n",
       "    </tr>\n",
       "  </thead>\n",
       "  <tbody>\n",
       "    <tr>\n",
       "      <th>0</th>\n",
       "      <td>GP</td>\n",
       "      <td>0.559949</td>\n",
       "    </tr>\n",
       "    <tr>\n",
       "      <th>1</th>\n",
       "      <td>MIN</td>\n",
       "      <td>-0.057955</td>\n",
       "    </tr>\n",
       "    <tr>\n",
       "      <th>2</th>\n",
       "      <td>FG%</td>\n",
       "      <td>0.247956</td>\n",
       "    </tr>\n",
       "    <tr>\n",
       "      <th>3</th>\n",
       "      <td>3P Made</td>\n",
       "      <td>0.031712</td>\n",
       "    </tr>\n",
       "    <tr>\n",
       "      <th>4</th>\n",
       "      <td>3P%</td>\n",
       "      <td>0.068353</td>\n",
       "    </tr>\n",
       "    <tr>\n",
       "      <th>5</th>\n",
       "      <td>FTM</td>\n",
       "      <td>0.063773</td>\n",
       "    </tr>\n",
       "    <tr>\n",
       "      <th>6</th>\n",
       "      <td>FT%</td>\n",
       "      <td>0.045939</td>\n",
       "    </tr>\n",
       "    <tr>\n",
       "      <th>7</th>\n",
       "      <td>OREB</td>\n",
       "      <td>0.393650</td>\n",
       "    </tr>\n",
       "    <tr>\n",
       "      <th>8</th>\n",
       "      <td>DREB</td>\n",
       "      <td>-0.070485</td>\n",
       "    </tr>\n",
       "    <tr>\n",
       "      <th>9</th>\n",
       "      <td>AST</td>\n",
       "      <td>0.234847</td>\n",
       "    </tr>\n",
       "    <tr>\n",
       "      <th>10</th>\n",
       "      <td>STL</td>\n",
       "      <td>-0.055580</td>\n",
       "    </tr>\n",
       "    <tr>\n",
       "      <th>11</th>\n",
       "      <td>BLK</td>\n",
       "      <td>0.057827</td>\n",
       "    </tr>\n",
       "    <tr>\n",
       "      <th>12</th>\n",
       "      <td>TOV</td>\n",
       "      <td>-0.064689</td>\n",
       "    </tr>\n",
       "  </tbody>\n",
       "</table>\n",
       "</div>"
      ],
      "text/plain": [
       "    Feature  Coefficient\n",
       "0        GP     0.559949\n",
       "1       MIN    -0.057955\n",
       "2       FG%     0.247956\n",
       "3   3P Made     0.031712\n",
       "4       3P%     0.068353\n",
       "5       FTM     0.063773\n",
       "6       FT%     0.045939\n",
       "7      OREB     0.393650\n",
       "8      DREB    -0.070485\n",
       "9       AST     0.234847\n",
       "10      STL    -0.055580\n",
       "11      BLK     0.057827\n",
       "12      TOV    -0.064689"
      ]
     },
     "execution_count": 19,
     "metadata": {},
     "output_type": "execute_result"
    }
   ],
   "source": [
    "\n",
    "coef_table = pd.DataFrame({'Feature': features_without_target, 'Coefficient': log_reg.coef_[0]})\n",
    "\n",
    "coef_table"
   ]
  },
  {
   "cell_type": "markdown",
   "metadata": {},
   "source": [
    "## Variable importance by permutation\n"
   ]
  },
  {
   "cell_type": "code",
   "execution_count": 20,
   "metadata": {},
   "outputs": [],
   "source": [
    "from sklearn.inspection import permutation_importance"
   ]
  },
  {
   "cell_type": "code",
   "execution_count": 21,
   "metadata": {},
   "outputs": [],
   "source": [
    "r = permutation_importance(\n",
    "    log_reg, X_train_res, y_train_res,\n",
    "    n_repeats=30,\n",
    "    random_state=8\n",
    ")"
   ]
  },
  {
   "cell_type": "code",
   "execution_count": 22,
   "metadata": {},
   "outputs": [],
   "source": [
    "table = pd.DataFrame(r.importances_mean)\n",
    "table.index = X_train.columns"
   ]
  },
  {
   "cell_type": "code",
   "execution_count": 23,
   "metadata": {},
   "outputs": [
    {
     "data": {
      "text/html": [
       "<div>\n",
       "<style scoped>\n",
       "    .dataframe tbody tr th:only-of-type {\n",
       "        vertical-align: middle;\n",
       "    }\n",
       "\n",
       "    .dataframe tbody tr th {\n",
       "        vertical-align: top;\n",
       "    }\n",
       "\n",
       "    .dataframe thead th {\n",
       "        text-align: right;\n",
       "    }\n",
       "</style>\n",
       "<table border=\"1\" class=\"dataframe\">\n",
       "  <thead>\n",
       "    <tr style=\"text-align: right;\">\n",
       "      <th></th>\n",
       "      <th>Feature</th>\n",
       "      <th>importance</th>\n",
       "    </tr>\n",
       "  </thead>\n",
       "  <tbody>\n",
       "    <tr>\n",
       "      <th>0</th>\n",
       "      <td>GP</td>\n",
       "      <td>0.077513</td>\n",
       "    </tr>\n",
       "    <tr>\n",
       "      <th>1</th>\n",
       "      <td>MIN</td>\n",
       "      <td>0.002247</td>\n",
       "    </tr>\n",
       "    <tr>\n",
       "      <th>2</th>\n",
       "      <td>FG%</td>\n",
       "      <td>0.017117</td>\n",
       "    </tr>\n",
       "    <tr>\n",
       "      <th>3</th>\n",
       "      <td>3P Made</td>\n",
       "      <td>0.001436</td>\n",
       "    </tr>\n",
       "    <tr>\n",
       "      <th>4</th>\n",
       "      <td>3P%</td>\n",
       "      <td>0.005423</td>\n",
       "    </tr>\n",
       "    <tr>\n",
       "      <th>5</th>\n",
       "      <td>FTM</td>\n",
       "      <td>0.002826</td>\n",
       "    </tr>\n",
       "    <tr>\n",
       "      <th>6</th>\n",
       "      <td>FT%</td>\n",
       "      <td>0.002284</td>\n",
       "    </tr>\n",
       "    <tr>\n",
       "      <th>7</th>\n",
       "      <td>OREB</td>\n",
       "      <td>0.029541</td>\n",
       "    </tr>\n",
       "    <tr>\n",
       "      <th>8</th>\n",
       "      <td>DREB</td>\n",
       "      <td>0.002181</td>\n",
       "    </tr>\n",
       "    <tr>\n",
       "      <th>9</th>\n",
       "      <td>AST</td>\n",
       "      <td>0.014623</td>\n",
       "    </tr>\n",
       "    <tr>\n",
       "      <th>10</th>\n",
       "      <td>STL</td>\n",
       "      <td>0.002284</td>\n",
       "    </tr>\n",
       "    <tr>\n",
       "      <th>11</th>\n",
       "      <td>BLK</td>\n",
       "      <td>0.000854</td>\n",
       "    </tr>\n",
       "    <tr>\n",
       "      <th>12</th>\n",
       "      <td>TOV</td>\n",
       "      <td>0.001562</td>\n",
       "    </tr>\n",
       "  </tbody>\n",
       "</table>\n",
       "</div>"
      ],
      "text/plain": [
       "    Feature  importance\n",
       "0        GP    0.077513\n",
       "1       MIN    0.002247\n",
       "2       FG%    0.017117\n",
       "3   3P Made    0.001436\n",
       "4       3P%    0.005423\n",
       "5       FTM    0.002826\n",
       "6       FT%    0.002284\n",
       "7      OREB    0.029541\n",
       "8      DREB    0.002181\n",
       "9       AST    0.014623\n",
       "10      STL    0.002284\n",
       "11      BLK    0.000854\n",
       "12      TOV    0.001562"
      ]
     },
     "execution_count": 23,
     "metadata": {},
     "output_type": "execute_result"
    }
   ],
   "source": [
    "importances = pd.DataFrame({'Feature': features_without_target, 'importance': r.importances_mean})\n",
    "\n",
    "importances"
   ]
  },
  {
   "cell_type": "markdown",
   "metadata": {},
   "source": [
    "### Examine features by class"
   ]
  },
  {
   "cell_type": "code",
   "execution_count": 25,
   "metadata": {},
   "outputs": [
    {
     "data": {
      "image/png": "[encoded data removed]",
      "text/plain": [
       "<Figure size 432x288 with 1 Axes>"
      ]
     },
     "metadata": {
      "needs_background": "light"
     },
     "output_type": "display_data"
    },
    {
     "data": {
      "image/png": "[encoded data removed]",
      "text/plain": [
       "<Figure size 432x288 with 1 Axes>"
      ]
     },
     "metadata": {
      "needs_background": "light"
     },
     "output_type": "display_data"
    },
    {
     "data": {
      "image/png": "[encoded data removed]",
      "text/plain": [
       "<Figure size 432x288 with 1 Axes>"
      ]
     },
     "metadata": {
      "needs_background": "light"
     },
     "output_type": "display_data"
    },
    {
     "data": {
      "image/png": "[encoded data removed]",
      "text/plain": [
       "<Figure size 432x288 with 1 Axes>"
      ]
     },
     "metadata": {
      "needs_background": "light"
     },
     "output_type": "display_data"
    },
    {
     "data": {
      "image/png": "[encoded data removed]",
      "text/plain": [
       "<Figure size 432x288 with 1 Axes>"
      ]
     },
     "metadata": {
      "needs_background": "light"
     },
     "output_type": "display_data"
    },
    {
     "data": {
      "image/png": "[encoded data removed]",
      "text/plain": [
       "<Figure size 432x288 with 1 Axes>"
      ]
     },
     "metadata": {
      "needs_background": "light"
     },
     "output_type": "display_data"
    },
    {
     "data": {
      "image/png": "[encoded data removed]",
      "text/plain": [
       "<Figure size 432x288 with 1 Axes>"
      ]
     },
     "metadata": {
      "needs_background": "light"
     },
     "output_type": "display_data"
    },
    {
     "data": {
      "image/png": "[encoded data removed]",
      "text/plain": [
       "<Figure size 432x288 with 1 Axes>"
      ]
     },
     "metadata": {
      "needs_background": "light"
     },
     "output_type": "display_data"
    },
    {
     "data": {
      "image/png": "[encoded data removed]",
      "text/plain": [
       "<Figure size 432x288 with 1 Axes>"
      ]
     },
     "metadata": {
      "needs_background": "light"
     },
     "output_type": "display_data"
    },
    {
     "data": {
      "image/png": "[encoded data removed]",
      "text/plain": [
       "<Figure size 432x288 with 1 Axes>"
      ]
     },
     "metadata": {
      "needs_background": "light"
     },
     "output_type": "display_data"
    },
    {
     "data": {
      "image/png": "[encoded data removed]",
      "text/plain": [
       "<Figure size 432x288 with 1 Axes>"
      ]
     },
     "metadata": {
      "needs_background": "light"
     },
     "output_type": "display_data"
    },
    {
     "data": {
      "image/png": "[encoded data removed]",
      "text/plain": [
       "<Figure size 432x288 with 1 Axes>"
      ]
     },
     "metadata": {
      "needs_background": "light"
     },
     "output_type": "display_data"
    },
    {
     "data": {
      "image/png": "[encoded data removed]",
      "text/plain": [
       "<Figure size 432x288 with 1 Axes>"
      ]
     },
     "metadata": {
      "needs_background": "light"
     },
     "output_type": "display_data"
    }
   ],
   "source": [
    "import matplotlib.pyplot as plt\n",
    "import seaborn as sns\n",
    "#sns.pairplot(train_df_scaled, hue=\"TARGET_5Yrs\")\n",
    "\n",
    "\n",
    "#chart_cols = selected_features[0:-1]\n",
    "\n",
    "chart_cols = importances.sort_values(by=['importance'], ascending = False, inplace=False)['Feature']\n",
    "\n",
    "for c in chart_cols:\n",
    "    length_fig, length_ax = plt.subplots()\n",
    "    sns.kdeplot(data=train_df, x=c, hue=\"TARGET_5Yrs\", fill=True, common_norm=False, palette=\"coolwarm\", alpha=.5, linewidth=0)\n",
    "    plt.savefig('../reports/figures/density_by_class_' + c + '.png')"
   ]
  }
 ],
 "metadata": {
  "kernelspec": {
   "display_name": "Python 3",
   "language": "python",
   "name": "python3"
  },
  "language_info": {
   "codemirror_mode": {
    "name": "ipython",
    "version": 3
   },
   "file_extension": ".py",
   "mimetype": "text/x-python",
   "name": "python",
   "nbconvert_exporter": "python",
   "pygments_lexer": "ipython3",
   "version": "3.8.6"
  }
 },
 "nbformat": 4,
 "nbformat_minor": 4
}
